{
  "nbformat": 4,
  "nbformat_minor": 0,
  "metadata": {
    "colab": {
      "provenance": [],
      "collapsed_sections": [
        "Nz9W1OvcT7WL"
      ]
    },
    "kernelspec": {
      "name": "python3",
      "display_name": "Python 3"
    },
    "language_info": {
      "name": "python"
    }
  },
  "cells": [
    {
      "cell_type": "markdown",
      "source": [
        "# Exploring data"
      ],
      "metadata": {
        "id": "pd_J1UUATxvi"
      }
    },
    {
      "cell_type": "code",
      "execution_count": null,
      "metadata": {
        "colab": {
          "base_uri": "https://localhost:8080/",
          "height": 637
        },
        "id": "qg0m6gAyYrug",
        "outputId": "70d1cf77-6aff-4c34-f69b-37a6013919f5"
      },
      "outputs": [
        {
          "output_type": "execute_result",
          "data": {
            "text/plain": [
              "   ResponseId     Q120                      MainBranch              Age  \\\n",
              "0           1  I agree                   None of these  18-24 years old   \n",
              "1           2  I agree  I am a developer by profession  25-34 years old   \n",
              "2           3  I agree  I am a developer by profession  45-54 years old   \n",
              "3           4  I agree  I am a developer by profession  25-34 years old   \n",
              "4           5  I agree  I am a developer by profession  25-34 years old   \n",
              "\n",
              "                                          Employment  \\\n",
              "0                                                NaN   \n",
              "1                                Employed, full-time   \n",
              "2                                Employed, full-time   \n",
              "3                                Employed, full-time   \n",
              "4  Employed, full-time;Independent contractor, fr...   \n",
              "\n",
              "                             RemoteWork  \\\n",
              "0                                   NaN   \n",
              "1                                Remote   \n",
              "2  Hybrid (some remote, some in-person)   \n",
              "3  Hybrid (some remote, some in-person)   \n",
              "4                                Remote   \n",
              "\n",
              "                                    CodingActivities  \\\n",
              "0                                                NaN   \n",
              "1  Hobby;Contribute to open-source projects;Boots...   \n",
              "2  Hobby;Professional development or self-paced l...   \n",
              "3                                              Hobby   \n",
              "4  Hobby;Contribute to open-source projects;Profe...   \n",
              "\n",
              "                                        EdLevel  \\\n",
              "0                                           NaN   \n",
              "1  Bachelor’s degree (B.A., B.S., B.Eng., etc.)   \n",
              "2  Bachelor’s degree (B.A., B.S., B.Eng., etc.)   \n",
              "3  Bachelor’s degree (B.A., B.S., B.Eng., etc.)   \n",
              "4  Bachelor’s degree (B.A., B.S., B.Eng., etc.)   \n",
              "\n",
              "                                           LearnCode  \\\n",
              "0                                                NaN   \n",
              "1  Books / Physical media;Colleague;Friend or fam...   \n",
              "2  Books / Physical media;Colleague;On the job tr...   \n",
              "3  Colleague;Friend or family member;Other online...   \n",
              "4  Books / Physical media;Online Courses or Certi...   \n",
              "\n",
              "                                     LearnCodeOnline  ...        Frequency_1  \\\n",
              "0                                                NaN  ...                NaN   \n",
              "1  Formal documentation provided by the owner of ...  ...   1-2 times a week   \n",
              "2  Formal documentation provided by the owner of ...  ...  6-10 times a week   \n",
              "3  Formal documentation provided by the owner of ...  ...   1-2 times a week   \n",
              "4  Formal documentation provided by the owner of ...  ...   1-2 times a week   \n",
              "\n",
              "         Frequency_2       Frequency_3         TimeSearching  \\\n",
              "0                NaN               NaN                   NaN   \n",
              "1   10+ times a week             Never   15-30 minutes a day   \n",
              "2  6-10 times a week  3-5 times a week   30-60 minutes a day   \n",
              "3   10+ times a week  1-2 times a week   15-30 minutes a day   \n",
              "4   1-2 times a week  3-5 times a week  60-120 minutes a day   \n",
              "\n",
              "         TimeAnswering                                   ProfessionalTech  \\\n",
              "0                  NaN                                                NaN   \n",
              "1  15-30 minutes a day  DevOps function;Microservices;Automated testin...   \n",
              "2  30-60 minutes a day  DevOps function;Microservices;Automated testin...   \n",
              "3  30-60 minutes a day  Automated testing;Continuous integration (CI) ...   \n",
              "4  30-60 minutes a day  Microservices;Automated testing;Observability ...   \n",
              "\n",
              "                                            Industry           SurveyLength  \\\n",
              "0                                                NaN                    NaN   \n",
              "1  Information Services, IT, Software Development...  Appropriate in length   \n",
              "2  Information Services, IT, Software Development...  Appropriate in length   \n",
              "3                                                NaN  Appropriate in length   \n",
              "4                                              Other  Appropriate in length   \n",
              "\n",
              "                   SurveyEase ConvertedCompYearly  \n",
              "0                         NaN                 NaN  \n",
              "1                        Easy            285000.0  \n",
              "2                        Easy            250000.0  \n",
              "3                        Easy            156000.0  \n",
              "4  Neither easy nor difficult             23456.0  \n",
              "\n",
              "[5 rows x 84 columns]"
            ],
            "text/html": [
              "\n",
              "  <div id=\"df-69c910fe-4693-4a91-84f7-44bd4a70de3d\" class=\"colab-df-container\">\n",
              "    <div>\n",
              "<style scoped>\n",
              "    .dataframe tbody tr th:only-of-type {\n",
              "        vertical-align: middle;\n",
              "    }\n",
              "\n",
              "    .dataframe tbody tr th {\n",
              "        vertical-align: top;\n",
              "    }\n",
              "\n",
              "    .dataframe thead th {\n",
              "        text-align: right;\n",
              "    }\n",
              "</style>\n",
              "<table border=\"1\" class=\"dataframe\">\n",
              "  <thead>\n",
              "    <tr style=\"text-align: right;\">\n",
              "      <th></th>\n",
              "      <th>ResponseId</th>\n",
              "      <th>Q120</th>\n",
              "      <th>MainBranch</th>\n",
              "      <th>Age</th>\n",
              "      <th>Employment</th>\n",
              "      <th>RemoteWork</th>\n",
              "      <th>CodingActivities</th>\n",
              "      <th>EdLevel</th>\n",
              "      <th>LearnCode</th>\n",
              "      <th>LearnCodeOnline</th>\n",
              "      <th>...</th>\n",
              "      <th>Frequency_1</th>\n",
              "      <th>Frequency_2</th>\n",
              "      <th>Frequency_3</th>\n",
              "      <th>TimeSearching</th>\n",
              "      <th>TimeAnswering</th>\n",
              "      <th>ProfessionalTech</th>\n",
              "      <th>Industry</th>\n",
              "      <th>SurveyLength</th>\n",
              "      <th>SurveyEase</th>\n",
              "      <th>ConvertedCompYearly</th>\n",
              "    </tr>\n",
              "  </thead>\n",
              "  <tbody>\n",
              "    <tr>\n",
              "      <th>0</th>\n",
              "      <td>1</td>\n",
              "      <td>I agree</td>\n",
              "      <td>None of these</td>\n",
              "      <td>18-24 years old</td>\n",
              "      <td>NaN</td>\n",
              "      <td>NaN</td>\n",
              "      <td>NaN</td>\n",
              "      <td>NaN</td>\n",
              "      <td>NaN</td>\n",
              "      <td>NaN</td>\n",
              "      <td>...</td>\n",
              "      <td>NaN</td>\n",
              "      <td>NaN</td>\n",
              "      <td>NaN</td>\n",
              "      <td>NaN</td>\n",
              "      <td>NaN</td>\n",
              "      <td>NaN</td>\n",
              "      <td>NaN</td>\n",
              "      <td>NaN</td>\n",
              "      <td>NaN</td>\n",
              "      <td>NaN</td>\n",
              "    </tr>\n",
              "    <tr>\n",
              "      <th>1</th>\n",
              "      <td>2</td>\n",
              "      <td>I agree</td>\n",
              "      <td>I am a developer by profession</td>\n",
              "      <td>25-34 years old</td>\n",
              "      <td>Employed, full-time</td>\n",
              "      <td>Remote</td>\n",
              "      <td>Hobby;Contribute to open-source projects;Boots...</td>\n",
              "      <td>Bachelor’s degree (B.A., B.S., B.Eng., etc.)</td>\n",
              "      <td>Books / Physical media;Colleague;Friend or fam...</td>\n",
              "      <td>Formal documentation provided by the owner of ...</td>\n",
              "      <td>...</td>\n",
              "      <td>1-2 times a week</td>\n",
              "      <td>10+ times a week</td>\n",
              "      <td>Never</td>\n",
              "      <td>15-30 minutes a day</td>\n",
              "      <td>15-30 minutes a day</td>\n",
              "      <td>DevOps function;Microservices;Automated testin...</td>\n",
              "      <td>Information Services, IT, Software Development...</td>\n",
              "      <td>Appropriate in length</td>\n",
              "      <td>Easy</td>\n",
              "      <td>285000.0</td>\n",
              "    </tr>\n",
              "    <tr>\n",
              "      <th>2</th>\n",
              "      <td>3</td>\n",
              "      <td>I agree</td>\n",
              "      <td>I am a developer by profession</td>\n",
              "      <td>45-54 years old</td>\n",
              "      <td>Employed, full-time</td>\n",
              "      <td>Hybrid (some remote, some in-person)</td>\n",
              "      <td>Hobby;Professional development or self-paced l...</td>\n",
              "      <td>Bachelor’s degree (B.A., B.S., B.Eng., etc.)</td>\n",
              "      <td>Books / Physical media;Colleague;On the job tr...</td>\n",
              "      <td>Formal documentation provided by the owner of ...</td>\n",
              "      <td>...</td>\n",
              "      <td>6-10 times a week</td>\n",
              "      <td>6-10 times a week</td>\n",
              "      <td>3-5 times a week</td>\n",
              "      <td>30-60 minutes a day</td>\n",
              "      <td>30-60 minutes a day</td>\n",
              "      <td>DevOps function;Microservices;Automated testin...</td>\n",
              "      <td>Information Services, IT, Software Development...</td>\n",
              "      <td>Appropriate in length</td>\n",
              "      <td>Easy</td>\n",
              "      <td>250000.0</td>\n",
              "    </tr>\n",
              "    <tr>\n",
              "      <th>3</th>\n",
              "      <td>4</td>\n",
              "      <td>I agree</td>\n",
              "      <td>I am a developer by profession</td>\n",
              "      <td>25-34 years old</td>\n",
              "      <td>Employed, full-time</td>\n",
              "      <td>Hybrid (some remote, some in-person)</td>\n",
              "      <td>Hobby</td>\n",
              "      <td>Bachelor’s degree (B.A., B.S., B.Eng., etc.)</td>\n",
              "      <td>Colleague;Friend or family member;Other online...</td>\n",
              "      <td>Formal documentation provided by the owner of ...</td>\n",
              "      <td>...</td>\n",
              "      <td>1-2 times a week</td>\n",
              "      <td>10+ times a week</td>\n",
              "      <td>1-2 times a week</td>\n",
              "      <td>15-30 minutes a day</td>\n",
              "      <td>30-60 minutes a day</td>\n",
              "      <td>Automated testing;Continuous integration (CI) ...</td>\n",
              "      <td>NaN</td>\n",
              "      <td>Appropriate in length</td>\n",
              "      <td>Easy</td>\n",
              "      <td>156000.0</td>\n",
              "    </tr>\n",
              "    <tr>\n",
              "      <th>4</th>\n",
              "      <td>5</td>\n",
              "      <td>I agree</td>\n",
              "      <td>I am a developer by profession</td>\n",
              "      <td>25-34 years old</td>\n",
              "      <td>Employed, full-time;Independent contractor, fr...</td>\n",
              "      <td>Remote</td>\n",
              "      <td>Hobby;Contribute to open-source projects;Profe...</td>\n",
              "      <td>Bachelor’s degree (B.A., B.S., B.Eng., etc.)</td>\n",
              "      <td>Books / Physical media;Online Courses or Certi...</td>\n",
              "      <td>Formal documentation provided by the owner of ...</td>\n",
              "      <td>...</td>\n",
              "      <td>1-2 times a week</td>\n",
              "      <td>1-2 times a week</td>\n",
              "      <td>3-5 times a week</td>\n",
              "      <td>60-120 minutes a day</td>\n",
              "      <td>30-60 minutes a day</td>\n",
              "      <td>Microservices;Automated testing;Observability ...</td>\n",
              "      <td>Other</td>\n",
              "      <td>Appropriate in length</td>\n",
              "      <td>Neither easy nor difficult</td>\n",
              "      <td>23456.0</td>\n",
              "    </tr>\n",
              "  </tbody>\n",
              "</table>\n",
              "<p>5 rows × 84 columns</p>\n",
              "</div>\n",
              "    <div class=\"colab-df-buttons\">\n",
              "\n",
              "  <div class=\"colab-df-container\">\n",
              "    <button class=\"colab-df-convert\" onclick=\"convertToInteractive('df-69c910fe-4693-4a91-84f7-44bd4a70de3d')\"\n",
              "            title=\"Convert this dataframe to an interactive table.\"\n",
              "            style=\"display:none;\">\n",
              "\n",
              "  <svg xmlns=\"http://www.w3.org/2000/svg\" height=\"24px\" viewBox=\"0 -960 960 960\">\n",
              "    <path d=\"M120-120v-720h720v720H120Zm60-500h600v-160H180v160Zm220 220h160v-160H400v160Zm0 220h160v-160H400v160ZM180-400h160v-160H180v160Zm440 0h160v-160H620v160ZM180-180h160v-160H180v160Zm440 0h160v-160H620v160Z\"/>\n",
              "  </svg>\n",
              "    </button>\n",
              "\n",
              "  <style>\n",
              "    .colab-df-container {\n",
              "      display:flex;\n",
              "      gap: 12px;\n",
              "    }\n",
              "\n",
              "    .colab-df-convert {\n",
              "      background-color: #E8F0FE;\n",
              "      border: none;\n",
              "      border-radius: 50%;\n",
              "      cursor: pointer;\n",
              "      display: none;\n",
              "      fill: #1967D2;\n",
              "      height: 32px;\n",
              "      padding: 0 0 0 0;\n",
              "      width: 32px;\n",
              "    }\n",
              "\n",
              "    .colab-df-convert:hover {\n",
              "      background-color: #E2EBFA;\n",
              "      box-shadow: 0px 1px 2px rgba(60, 64, 67, 0.3), 0px 1px 3px 1px rgba(60, 64, 67, 0.15);\n",
              "      fill: #174EA6;\n",
              "    }\n",
              "\n",
              "    .colab-df-buttons div {\n",
              "      margin-bottom: 4px;\n",
              "    }\n",
              "\n",
              "    [theme=dark] .colab-df-convert {\n",
              "      background-color: #3B4455;\n",
              "      fill: #D2E3FC;\n",
              "    }\n",
              "\n",
              "    [theme=dark] .colab-df-convert:hover {\n",
              "      background-color: #434B5C;\n",
              "      box-shadow: 0px 1px 3px 1px rgba(0, 0, 0, 0.15);\n",
              "      filter: drop-shadow(0px 1px 2px rgba(0, 0, 0, 0.3));\n",
              "      fill: #FFFFFF;\n",
              "    }\n",
              "  </style>\n",
              "\n",
              "    <script>\n",
              "      const buttonEl =\n",
              "        document.querySelector('#df-69c910fe-4693-4a91-84f7-44bd4a70de3d button.colab-df-convert');\n",
              "      buttonEl.style.display =\n",
              "        google.colab.kernel.accessAllowed ? 'block' : 'none';\n",
              "\n",
              "      async function convertToInteractive(key) {\n",
              "        const element = document.querySelector('#df-69c910fe-4693-4a91-84f7-44bd4a70de3d');\n",
              "        const dataTable =\n",
              "          await google.colab.kernel.invokeFunction('convertToInteractive',\n",
              "                                                    [key], {});\n",
              "        if (!dataTable) return;\n",
              "\n",
              "        const docLinkHtml = 'Like what you see? Visit the ' +\n",
              "          '<a target=\"_blank\" href=https://colab.research.google.com/notebooks/data_table.ipynb>data table notebook</a>'\n",
              "          + ' to learn more about interactive tables.';\n",
              "        element.innerHTML = '';\n",
              "        dataTable['output_type'] = 'display_data';\n",
              "        await google.colab.output.renderOutput(dataTable, element);\n",
              "        const docLink = document.createElement('div');\n",
              "        docLink.innerHTML = docLinkHtml;\n",
              "        element.appendChild(docLink);\n",
              "      }\n",
              "    </script>\n",
              "  </div>\n",
              "\n",
              "\n",
              "<div id=\"df-30093e46-f756-4ada-ad39-c573281d136e\">\n",
              "  <button class=\"colab-df-quickchart\" onclick=\"quickchart('df-30093e46-f756-4ada-ad39-c573281d136e')\"\n",
              "            title=\"Suggest charts\"\n",
              "            style=\"display:none;\">\n",
              "\n",
              "<svg xmlns=\"http://www.w3.org/2000/svg\" height=\"24px\"viewBox=\"0 0 24 24\"\n",
              "     width=\"24px\">\n",
              "    <g>\n",
              "        <path d=\"M19 3H5c-1.1 0-2 .9-2 2v14c0 1.1.9 2 2 2h14c1.1 0 2-.9 2-2V5c0-1.1-.9-2-2-2zM9 17H7v-7h2v7zm4 0h-2V7h2v10zm4 0h-2v-4h2v4z\"/>\n",
              "    </g>\n",
              "</svg>\n",
              "  </button>\n",
              "\n",
              "<style>\n",
              "  .colab-df-quickchart {\n",
              "      --bg-color: #E8F0FE;\n",
              "      --fill-color: #1967D2;\n",
              "      --hover-bg-color: #E2EBFA;\n",
              "      --hover-fill-color: #174EA6;\n",
              "      --disabled-fill-color: #AAA;\n",
              "      --disabled-bg-color: #DDD;\n",
              "  }\n",
              "\n",
              "  [theme=dark] .colab-df-quickchart {\n",
              "      --bg-color: #3B4455;\n",
              "      --fill-color: #D2E3FC;\n",
              "      --hover-bg-color: #434B5C;\n",
              "      --hover-fill-color: #FFFFFF;\n",
              "      --disabled-bg-color: #3B4455;\n",
              "      --disabled-fill-color: #666;\n",
              "  }\n",
              "\n",
              "  .colab-df-quickchart {\n",
              "    background-color: var(--bg-color);\n",
              "    border: none;\n",
              "    border-radius: 50%;\n",
              "    cursor: pointer;\n",
              "    display: none;\n",
              "    fill: var(--fill-color);\n",
              "    height: 32px;\n",
              "    padding: 0;\n",
              "    width: 32px;\n",
              "  }\n",
              "\n",
              "  .colab-df-quickchart:hover {\n",
              "    background-color: var(--hover-bg-color);\n",
              "    box-shadow: 0 1px 2px rgba(60, 64, 67, 0.3), 0 1px 3px 1px rgba(60, 64, 67, 0.15);\n",
              "    fill: var(--button-hover-fill-color);\n",
              "  }\n",
              "\n",
              "  .colab-df-quickchart-complete:disabled,\n",
              "  .colab-df-quickchart-complete:disabled:hover {\n",
              "    background-color: var(--disabled-bg-color);\n",
              "    fill: var(--disabled-fill-color);\n",
              "    box-shadow: none;\n",
              "  }\n",
              "\n",
              "  .colab-df-spinner {\n",
              "    border: 2px solid var(--fill-color);\n",
              "    border-color: transparent;\n",
              "    border-bottom-color: var(--fill-color);\n",
              "    animation:\n",
              "      spin 1s steps(1) infinite;\n",
              "  }\n",
              "\n",
              "  @keyframes spin {\n",
              "    0% {\n",
              "      border-color: transparent;\n",
              "      border-bottom-color: var(--fill-color);\n",
              "      border-left-color: var(--fill-color);\n",
              "    }\n",
              "    20% {\n",
              "      border-color: transparent;\n",
              "      border-left-color: var(--fill-color);\n",
              "      border-top-color: var(--fill-color);\n",
              "    }\n",
              "    30% {\n",
              "      border-color: transparent;\n",
              "      border-left-color: var(--fill-color);\n",
              "      border-top-color: var(--fill-color);\n",
              "      border-right-color: var(--fill-color);\n",
              "    }\n",
              "    40% {\n",
              "      border-color: transparent;\n",
              "      border-right-color: var(--fill-color);\n",
              "      border-top-color: var(--fill-color);\n",
              "    }\n",
              "    60% {\n",
              "      border-color: transparent;\n",
              "      border-right-color: var(--fill-color);\n",
              "    }\n",
              "    80% {\n",
              "      border-color: transparent;\n",
              "      border-right-color: var(--fill-color);\n",
              "      border-bottom-color: var(--fill-color);\n",
              "    }\n",
              "    90% {\n",
              "      border-color: transparent;\n",
              "      border-bottom-color: var(--fill-color);\n",
              "    }\n",
              "  }\n",
              "</style>\n",
              "\n",
              "  <script>\n",
              "    async function quickchart(key) {\n",
              "      const quickchartButtonEl =\n",
              "        document.querySelector('#' + key + ' button');\n",
              "      quickchartButtonEl.disabled = true;  // To prevent multiple clicks.\n",
              "      quickchartButtonEl.classList.add('colab-df-spinner');\n",
              "      try {\n",
              "        const charts = await google.colab.kernel.invokeFunction(\n",
              "            'suggestCharts', [key], {});\n",
              "      } catch (error) {\n",
              "        console.error('Error during call to suggestCharts:', error);\n",
              "      }\n",
              "      quickchartButtonEl.classList.remove('colab-df-spinner');\n",
              "      quickchartButtonEl.classList.add('colab-df-quickchart-complete');\n",
              "    }\n",
              "    (() => {\n",
              "      let quickchartButtonEl =\n",
              "        document.querySelector('#df-30093e46-f756-4ada-ad39-c573281d136e button');\n",
              "      quickchartButtonEl.style.display =\n",
              "        google.colab.kernel.accessAllowed ? 'block' : 'none';\n",
              "    })();\n",
              "  </script>\n",
              "</div>\n",
              "\n",
              "    </div>\n",
              "  </div>\n"
            ],
            "application/vnd.google.colaboratory.intrinsic+json": {
              "type": "dataframe",
              "variable_name": "df"
            }
          },
          "metadata": {},
          "execution_count": 2
        }
      ],
      "source": [
        "import seaborn as sns\n",
        "import matplotlib.pyplot as plt\n",
        "import pandas as pd\n",
        "import numpy as np\n",
        "from sklearn.preprocessing import LabelEncoder\n",
        "from sklearn.impute import SimpleImputer\n",
        "from sklearn.preprocessing import OneHotEncoder, StandardScaler, LabelEncoder\n",
        "from sklearn.compose import ColumnTransformer\n",
        "from sklearn.pipeline import Pipeline\n",
        "from sklearn.model_selection import train_test_split\n",
        "from sklearn.ensemble import RandomForestRegressor\n",
        "from sklearn.metrics import mean_absolute_error, mean_squared_error\n",
        "from sklearn.ensemble import HistGradientBoostingRegressor\n",
        "\n",
        "\n",
        "# Load the dataset\n",
        "url = \"https://www.dropbox.com/scl/fi/w0pri1ui24lhbnxod3h81/survey_results_public.csv?rlkey=5vdh0nb4nlhriz3tm488ugfit&st=uq825w8l&dl=1\"\n",
        "df = pd.read_csv(url)\n",
        "\n",
        "# Check the first few rows to verify the data loaded correctly\n",
        "df.head()\n"
      ]
    },
    {
      "cell_type": "markdown",
      "source": [
        "# Cleaning & Wrangling Data"
      ],
      "metadata": {
        "id": "mvzYIol5GfUa"
      }
    },
    {
      "cell_type": "code",
      "source": [
        "# Check the first few rows to verify the data loaded correctly\n",
        "df.head()\n",
        "\n",
        "# Cleaning Step: Remove rows with missing values in 'ConvertedCompYearly'\n",
        "df_cleaned = df.dropna(subset=['ConvertedCompYearly'])\n",
        "\n",
        "# Check the result\n",
        "print(\"Remaining rows after cleaning:\", df_cleaned.shape[0])\n",
        "print(\"Missing values in 'ConvertedCompYearly':\", df_cleaned['ConvertedCompYearly'].isnull().sum())"
      ],
      "metadata": {
        "colab": {
          "base_uri": "https://localhost:8080/"
        },
        "id": "JSNSgLk4Geoa",
        "outputId": "ec1bbd45-4e1e-4425-9c44-751e8b8c3aaf"
      },
      "execution_count": null,
      "outputs": [
        {
          "output_type": "stream",
          "name": "stdout",
          "text": [
            "Remaining rows after cleaning: 48019\n",
            "Missing values in 'ConvertedCompYearly': 0\n"
          ]
        }
      ]
    },
    {
      "cell_type": "markdown",
      "source": [
        "- Basic Information"
      ],
      "metadata": {
        "id": "kwggx60Vt0sj"
      }
    },
    {
      "cell_type": "code",
      "source": [
        "# Filter only numeric columns\n",
        "numeric_df = df_cleaned.select_dtypes(include=[np.number])\n",
        "\n",
        "# Calculate the correlation matrix\n",
        "correlation_matrix = numeric_df.corr()\n",
        "\n",
        "# Focus on the correlation with 'ConvertedCompYearly'\n",
        "correlations_with_converted_comp = correlation_matrix['ConvertedCompYearly'].sort_values(ascending=False)\n",
        "\n",
        "# Plot heatmap of the correlation matrix\n",
        "plt.figure(figsize=(12, 8))\n",
        "sns.heatmap(correlation_matrix, annot=True, cmap='coolwarm', fmt=\".2f\")\n",
        "plt.title(\"Correlation Heatmap of Numeric Features\")\n",
        "plt.show()\n",
        "\n",
        "# Display the top correlated features with 'ConvertedCompYearly'\n",
        "print(\"Top correlations with ConvertedCompYearly:\\n\", correlations_with_converted_comp.head(10))\n"
      ],
      "metadata": {
        "colab": {
          "base_uri": "https://localhost:8080/",
          "height": 803
        },
        "id": "dOMy08EYZk2Y",
        "outputId": "38a5ec82-9f2a-44cf-ebd6-73a04c852f1f"
      },
      "execution_count": null,
      "outputs": [
        {
          "output_type": "display_data",
          "data": {
            "text/plain": [
              "<Figure size 1200x800 with 2 Axes>"
            ],
            "image/png": "[encoded data removed]"
          },
          "metadata": {}
        },
        {
          "output_type": "stream",
          "name": "stdout",
          "text": [
            "Top correlations with ConvertedCompYearly:\n",
            " ConvertedCompYearly    1.000000\n",
            "CompTotal              0.071403\n",
            "WorkExp                0.046078\n",
            "ResponseId             0.001831\n",
            "Name: ConvertedCompYearly, dtype: float64\n"
          ]
        }
      ]
    },
    {
      "cell_type": "code",
      "source": [
        "# Remove columns with low correlation to 'ConvertedCompYearly'\n",
        "columns_to_drop = ['CompTotal', 'WorkExp', 'ResponseId']\n",
        "df_cleaned = df_cleaned.drop(columns=columns_to_drop)\n",
        "\n",
        "# Verify the removal\n",
        "print(df_cleaned.columns)\n"
      ],
      "metadata": {
        "colab": {
          "base_uri": "https://localhost:8080/"
        },
        "id": "5n8cUykTHgam",
        "outputId": "720bc634-2884-4aad-dab4-fd5472733c9b"
      },
      "execution_count": null,
      "outputs": [
        {
          "output_type": "stream",
          "name": "stdout",
          "text": [
            "Index(['Q120', 'MainBranch', 'Age', 'Employment', 'RemoteWork',\n",
            "       'CodingActivities', 'EdLevel', 'LearnCode', 'LearnCodeOnline',\n",
            "       'LearnCodeCoursesCert', 'YearsCode', 'YearsCodePro', 'DevType',\n",
            "       'OrgSize', 'PurchaseInfluence', 'TechList', 'BuyNewTool', 'Country',\n",
            "       'Currency', 'LanguageHaveWorkedWith', 'LanguageWantToWorkWith',\n",
            "       'DatabaseHaveWorkedWith', 'DatabaseWantToWorkWith',\n",
            "       'PlatformHaveWorkedWith', 'PlatformWantToWorkWith',\n",
            "       'WebframeHaveWorkedWith', 'WebframeWantToWorkWith',\n",
            "       'MiscTechHaveWorkedWith', 'MiscTechWantToWorkWith',\n",
            "       'ToolsTechHaveWorkedWith', 'ToolsTechWantToWorkWith',\n",
            "       'NEWCollabToolsHaveWorkedWith', 'NEWCollabToolsWantToWorkWith',\n",
            "       'OpSysPersonal use', 'OpSysProfessional use',\n",
            "       'OfficeStackAsyncHaveWorkedWith', 'OfficeStackAsyncWantToWorkWith',\n",
            "       'OfficeStackSyncHaveWorkedWith', 'OfficeStackSyncWantToWorkWith',\n",
            "       'AISearchHaveWorkedWith', 'AISearchWantToWorkWith',\n",
            "       'AIDevHaveWorkedWith', 'AIDevWantToWorkWith', 'NEWSOSites',\n",
            "       'SOVisitFreq', 'SOAccount', 'SOPartFreq', 'SOComm', 'SOAI', 'AISelect',\n",
            "       'AISent', 'AIAcc', 'AIBen', 'AIToolInterested in Using',\n",
            "       'AIToolCurrently Using', 'AIToolNot interested in Using',\n",
            "       'AINextVery different', 'AINextNeither different nor similar',\n",
            "       'AINextSomewhat similar', 'AINextVery similar',\n",
            "       'AINextSomewhat different', 'TBranch', 'ICorPM', 'Knowledge_1',\n",
            "       'Knowledge_2', 'Knowledge_3', 'Knowledge_4', 'Knowledge_5',\n",
            "       'Knowledge_6', 'Knowledge_7', 'Knowledge_8', 'Frequency_1',\n",
            "       'Frequency_2', 'Frequency_3', 'TimeSearching', 'TimeAnswering',\n",
            "       'ProfessionalTech', 'Industry', 'SurveyLength', 'SurveyEase',\n",
            "       'ConvertedCompYearly'],\n",
            "      dtype='object')\n"
          ]
        }
      ]
    },
    {
      "cell_type": "markdown",
      "source": [
        "Delete the unneeded columns"
      ],
      "metadata": {
        "id": "zZbsn1WZv6xa"
      }
    },
    {
      "cell_type": "code",
      "source": [
        "# List of columns to delete\n",
        "columns_to_delete = [\n",
        "    'Q120', 'MainBranch', 'Employment', 'RemoteWork',\n",
        "    'CodingActivities', 'LearnCode', 'LearnCodeOnline',\n",
        "    'LearnCodeCoursesCert', 'OrgSize',\n",
        "    'PurchaseInfluence', 'TechList', 'BuyNewTool',\n",
        "    'LanguageWantToWorkWith', 'DatabaseWantToWorkWith',\n",
        "    'PlatformWantToWorkWith', 'WebframeHaveWorkedWith',\n",
        "    'WebframeWantToWorkWith', 'MiscTechHaveWorkedWith',\n",
        "    'MiscTechWantToWorkWith', 'ToolsTechHaveWorkedWith',\n",
        "    'ToolsTechWantToWorkWith', 'NEWCollabToolsHaveWorkedWith',\n",
        "    'NEWCollabToolsWantToWorkWith', 'OpSysPersonal use',\n",
        "    'OpSysProfessional use', 'OfficeStackAsyncHaveWorkedWith',\n",
        "    'OfficeStackAsyncWantToWorkWith', 'OfficeStackSyncHaveWorkedWith',\n",
        "    'OfficeStackSyncWantToWorkWith', 'AISearchHaveWorkedWith',\n",
        "    'AISearchWantToWorkWith', 'AIDevHaveWorkedWith',\n",
        "    'AIDevWantToWorkWith', 'NEWSOSites', 'SOVisitFreq',\n",
        "    'SOAccount', 'SOPartFreq', 'SOComm', 'SOAI',\n",
        "    'AISelect', 'AISent', 'AIAcc', 'AIBen',\n",
        "    'AIToolInterested in Using', 'AIToolCurrently Using',\n",
        "    'AIToolNot interested in Using', 'AINextVery different',\n",
        "    'AINextNeither different nor similar', 'AINextSomewhat similar',\n",
        "    'AINextVery similar', 'AINextSomewhat different', 'TBranch',\n",
        "    'ICorPM', 'Frequency_1', 'Frequency_2', 'Frequency_3',\n",
        "    'TimeSearching', 'TimeAnswering','SurveyLength', 'SurveyEase'\n",
        "]\n",
        "\n",
        "# Drop the specified columns\n",
        "df.drop(columns=columns_to_delete, inplace=True, errors='ignore')\n",
        "\n",
        "# Check the remaining columns to verify deletion\n",
        "print(\"\\nDataFrame after dropping specified columns:\")\n",
        "print(df.head())\n",
        "print(\"\\nRemaining columns:\")\n",
        "print(df.columns.tolist())\n"
      ],
      "metadata": {
        "colab": {
          "base_uri": "https://localhost:8080/"
        },
        "id": "OPLqp_t7tkau",
        "outputId": "587fbe91-6cbd-42da-9172-8770ce2db5bd"
      },
      "execution_count": null,
      "outputs": [
        {
          "output_type": "stream",
          "name": "stdout",
          "text": [
            "\n",
            "DataFrame after dropping specified columns:\n",
            "   ResponseId              Age                                       EdLevel  \\\n",
            "0           1  18-24 years old                                           NaN   \n",
            "1           2  25-34 years old  Bachelor’s degree (B.A., B.S., B.Eng., etc.)   \n",
            "2           3  45-54 years old  Bachelor’s degree (B.A., B.S., B.Eng., etc.)   \n",
            "3           4  25-34 years old  Bachelor’s degree (B.A., B.S., B.Eng., etc.)   \n",
            "4           5  25-34 years old  Bachelor’s degree (B.A., B.S., B.Eng., etc.)   \n",
            "\n",
            "  YearsCode YearsCodePro                               DevType  \\\n",
            "0       NaN          NaN                                   NaN   \n",
            "1        18            9  Senior Executive (C-Suite, VP, etc.)   \n",
            "2        27           23                   Developer, back-end   \n",
            "3        12            7                  Developer, front-end   \n",
            "4         6            4                 Developer, full-stack   \n",
            "\n",
            "                    Country                   Currency  CompTotal  \\\n",
            "0                       NaN                        NaN        NaN   \n",
            "1  United States of America  USD\\tUnited States dollar   285000.0   \n",
            "2  United States of America  USD\\tUnited States dollar   250000.0   \n",
            "3  United States of America  USD\\tUnited States dollar   156000.0   \n",
            "4               Philippines       PHP\\tPhilippine peso  1320000.0   \n",
            "\n",
            "                              LanguageHaveWorkedWith  ...  \\\n",
            "0                                                NaN  ...   \n",
            "1                         HTML/CSS;JavaScript;Python  ...   \n",
            "2                         Bash/Shell (all shells);Go  ...   \n",
            "3  Bash/Shell (all shells);HTML/CSS;JavaScript;PH...  ...   \n",
            "4                     HTML/CSS;JavaScript;TypeScript  ...   \n",
            "\n",
            "                  Knowledge_2     Knowledge_3     Knowledge_4  \\\n",
            "0                         NaN             NaN             NaN   \n",
            "1                       Agree  Strongly agree           Agree   \n",
            "2  Neither agree nor disagree           Agree           Agree   \n",
            "3           Strongly disagree  Strongly agree  Strongly agree   \n",
            "4              Strongly agree           Agree           Agree   \n",
            "\n",
            "                  Knowledge_5                 Knowledge_6     Knowledge_7  \\\n",
            "0                         NaN                         NaN             NaN   \n",
            "1                       Agree                       Agree           Agree   \n",
            "2                       Agree                       Agree           Agree   \n",
            "3                       Agree  Neither agree nor disagree           Agree   \n",
            "4  Neither agree nor disagree                       Agree  Strongly agree   \n",
            "\n",
            "      Knowledge_8                                   ProfessionalTech  \\\n",
            "0             NaN                                                NaN   \n",
            "1  Strongly agree  DevOps function;Microservices;Automated testin...   \n",
            "2           Agree  DevOps function;Microservices;Automated testin...   \n",
            "3           Agree  Automated testing;Continuous integration (CI) ...   \n",
            "4           Agree  Microservices;Automated testing;Observability ...   \n",
            "\n",
            "                                            Industry ConvertedCompYearly  \n",
            "0                                                NaN                 NaN  \n",
            "1  Information Services, IT, Software Development...            285000.0  \n",
            "2  Information Services, IT, Software Development...            250000.0  \n",
            "3                                                NaN            156000.0  \n",
            "4                                              Other             23456.0  \n",
            "\n",
            "[5 rows x 24 columns]\n",
            "\n",
            "Remaining columns:\n",
            "['ResponseId', 'Age', 'EdLevel', 'YearsCode', 'YearsCodePro', 'DevType', 'Country', 'Currency', 'CompTotal', 'LanguageHaveWorkedWith', 'DatabaseHaveWorkedWith', 'PlatformHaveWorkedWith', 'WorkExp', 'Knowledge_1', 'Knowledge_2', 'Knowledge_3', 'Knowledge_4', 'Knowledge_5', 'Knowledge_6', 'Knowledge_7', 'Knowledge_8', 'ProfessionalTech', 'Industry', 'ConvertedCompYearly']\n"
          ]
        }
      ]
    },
    {
      "cell_type": "code",
      "source": [
        "# Count the number of remaining columns\n",
        "num_columns = df.shape[1]\n",
        "print(f\"\\nNumber of remaining columns: {num_columns}\")"
      ],
      "metadata": {
        "colab": {
          "base_uri": "https://localhost:8080/"
        },
        "id": "MQ_cNNRdOypz",
        "outputId": "22f0bbee-d433-42a8-a449-c424763edfe7"
      },
      "execution_count": null,
      "outputs": [
        {
          "output_type": "stream",
          "name": "stdout",
          "text": [
            "\n",
            "Number of remaining columns: 24\n"
          ]
        }
      ]
    },
    {
      "cell_type": "code",
      "source": [
        "# Check data types of each column\n",
        "print(df.dtypes)\n"
      ],
      "metadata": {
        "colab": {
          "base_uri": "https://localhost:8080/"
        },
        "id": "XC8uPzG4PEnB",
        "outputId": "eeddcb22-16dd-46ca-a0c2-7ba41f507fbb"
      },
      "execution_count": null,
      "outputs": [
        {
          "output_type": "stream",
          "name": "stdout",
          "text": [
            "ResponseId                  int64\n",
            "Age                        object\n",
            "EdLevel                    object\n",
            "YearsCode                  object\n",
            "YearsCodePro               object\n",
            "DevType                    object\n",
            "Country                    object\n",
            "Currency                   object\n",
            "CompTotal                 float64\n",
            "LanguageHaveWorkedWith     object\n",
            "DatabaseHaveWorkedWith     object\n",
            "PlatformHaveWorkedWith     object\n",
            "WorkExp                   float64\n",
            "Knowledge_1                object\n",
            "Knowledge_2                object\n",
            "Knowledge_3                object\n",
            "Knowledge_4                object\n",
            "Knowledge_5                object\n",
            "Knowledge_6                object\n",
            "Knowledge_7                object\n",
            "Knowledge_8                object\n",
            "ProfessionalTech           object\n",
            "Industry                   object\n",
            "ConvertedCompYearly       float64\n",
            "dtype: object\n"
          ]
        }
      ]
    },
    {
      "cell_type": "markdown",
      "source": [
        "- Discover DevType"
      ],
      "metadata": {
        "id": "bHgj92xRJFOt"
      }
    },
    {
      "cell_type": "code",
      "source": [
        "# Display unique DevType values in the dataset\n",
        "unique_devtypes = df['DevType'].dropna().unique()\n",
        "print(\"Unique DevType entries:\", unique_devtypes)\n",
        "\n",
        "# Splitting and expanding to get a list of all unique roles across entries\n",
        "all_devtypes = set([role.strip() for entry in unique_devtypes for role in entry.split(';')])\n",
        "print(\"\\nList of all unique DevType roles:\")\n",
        "for devtype in sorted(all_devtypes):\n",
        "    print(devtype)\n"
      ],
      "metadata": {
        "colab": {
          "base_uri": "https://localhost:8080/"
        },
        "id": "CNsh74h8JFq_",
        "outputId": "79a14000-35a9-4b56-d4b3-24ca6b69fe0c"
      },
      "execution_count": null,
      "outputs": [
        {
          "output_type": "stream",
          "name": "stdout",
          "text": [
            "Unique DevType entries: ['Senior Executive (C-Suite, VP, etc.)' 'Developer, back-end'\n",
            " 'Developer, front-end' 'Developer, full-stack' 'System administrator'\n",
            " 'Developer, desktop or enterprise applications' 'Developer, QA or test'\n",
            " 'Designer' 'Data scientist or machine learning specialist'\n",
            " 'Data or business analyst' 'Security professional' 'Educator'\n",
            " 'Research & Development role' 'Other (please specify):'\n",
            " 'Developer, mobile' 'Database administrator'\n",
            " 'Developer, embedded applications or devices' 'Student' 'Engineer, data'\n",
            " 'Hardware Engineer' 'Product manager' 'Academic researcher'\n",
            " 'Developer, game or graphics' 'Cloud infrastructure engineer'\n",
            " 'Engineering manager' 'Developer Experience' 'Project manager'\n",
            " 'DevOps specialist' 'Engineer, site reliability' 'Blockchain'\n",
            " 'Developer Advocate' 'Scientist' 'Marketing or sales professional']\n",
            "\n",
            "List of all unique DevType roles:\n",
            "Academic researcher\n",
            "Blockchain\n",
            "Cloud infrastructure engineer\n",
            "Data or business analyst\n",
            "Data scientist or machine learning specialist\n",
            "Database administrator\n",
            "Designer\n",
            "DevOps specialist\n",
            "Developer Advocate\n",
            "Developer Experience\n",
            "Developer, QA or test\n",
            "Developer, back-end\n",
            "Developer, desktop or enterprise applications\n",
            "Developer, embedded applications or devices\n",
            "Developer, front-end\n",
            "Developer, full-stack\n",
            "Developer, game or graphics\n",
            "Developer, mobile\n",
            "Educator\n",
            "Engineer, data\n",
            "Engineer, site reliability\n",
            "Engineering manager\n",
            "Hardware Engineer\n",
            "Marketing or sales professional\n",
            "Other (please specify):\n",
            "Product manager\n",
            "Project manager\n",
            "Research & Development role\n",
            "Scientist\n",
            "Security professional\n",
            "Senior Executive (C-Suite, VP, etc.)\n",
            "Student\n",
            "System administrator\n"
          ]
        }
      ]
    },
    {
      "cell_type": "code",
      "source": [
        "# Drop NaN values and split 'DevType' entries into individual roles\n",
        "devtype_expanded = df['DevType'].dropna().str.split(';').explode().str.strip()\n",
        "\n",
        "# Count the occurrences of each unique role\n",
        "devtype_counts = devtype_expanded.value_counts()\n",
        "\n",
        "# Display the total number of unique roles and the count for each role\n",
        "print(f\"Total number of unique DevType roles: {devtype_counts.shape[0]}\")\n",
        "print(\"\\nCount of entries per DevType role:\\n\", devtype_counts)"
      ],
      "metadata": {
        "colab": {
          "base_uri": "https://localhost:8080/"
        },
        "id": "nPw4D789Joba",
        "outputId": "47077d4f-c8a3-4048-9a1e-4c9a0b3350bd"
      },
      "execution_count": null,
      "outputs": [
        {
          "output_type": "stream",
          "name": "stdout",
          "text": [
            "Total number of unique DevType roles: 33\n",
            "\n",
            "Count of entries per DevType role:\n",
            " DevType\n",
            "Developer, full-stack                            25735\n",
            "Developer, back-end                              13745\n",
            "Developer, front-end                              5071\n",
            "Developer, desktop or enterprise applications     3904\n",
            "Other (please specify):                           3080\n",
            "Developer, mobile                                 2597\n",
            "Engineering manager                               2033\n",
            "Student                                           1996\n",
            "Developer, embedded applications or devices       1845\n",
            "Data scientist or machine learning specialist     1588\n",
            "DevOps specialist                                 1387\n",
            "Academic researcher                               1354\n",
            "Research & Development role                       1353\n",
            "Senior Executive (C-Suite, VP, etc.)              1332\n",
            "Engineer, data                                    1248\n",
            "Cloud infrastructure engineer                     1036\n",
            "Developer, game or graphics                        866\n",
            "Data or business analyst                           837\n",
            "System administrator                               743\n",
            "Project manager                                    589\n",
            "Developer, QA or test                              586\n",
            "Security professional                              474\n",
            "Product manager                                    446\n",
            "Engineer, site reliability                         427\n",
            "Educator                                           415\n",
            "Scientist                                          351\n",
            "Developer Experience                               326\n",
            "Blockchain                                         323\n",
            "Hardware Engineer                                  286\n",
            "Designer                                           281\n",
            "Database administrator                             257\n",
            "Developer Advocate                                 212\n",
            "Marketing or sales professional                    149\n",
            "Name: count, dtype: int64\n"
          ]
        }
      ]
    },
    {
      "cell_type": "markdown",
      "source": [
        "# ML"
      ],
      "metadata": {
        "id": "xTyshDyHREta"
      }
    },
    {
      "cell_type": "markdown",
      "source": [
        "Random Forest Regressor"
      ],
      "metadata": {
        "id": "y4BJXXAbVkUH"
      }
    },
    {
      "cell_type": "code",
      "source": [
        "# Remove rows with missing values in 'ConvertedCompYearly'\n",
        "df_cleaned = df.dropna(subset=['ConvertedCompYearly'])\n",
        "\n",
        "# Encode the 'DevType' column (position/job title)\n",
        "df_encoded = pd.get_dummies(df_cleaned[['DevType', 'ConvertedCompYearly']], drop_first=True)\n",
        "\n",
        "# Split data into features (X) and target (y)\n",
        "X = df_encoded.drop('ConvertedCompYearly', axis=1)\n",
        "y = df_encoded['ConvertedCompYearly']\n",
        "\n",
        "# Train-test split\n",
        "X_train, X_test, y_train, y_test = train_test_split(X, y, test_size=0.2, random_state=42)\n",
        "\n",
        "# Train the Random Forest Regressor\n",
        "model = RandomForestRegressor(n_estimators=100, random_state=42)\n",
        "model.fit(X_train, y_train)\n",
        "\n",
        "# Predict and evaluate\n",
        "y_pred = model.predict(X_test)\n",
        "\n",
        "# Evaluation metrics\n",
        "mae = mean_absolute_error(y_test, y_pred)\n",
        "mse = mean_squared_error(y_test, y_pred)\n",
        "rmse = np.sqrt(mse)\n",
        "\n",
        "print(f\"Mean Absolute Error: {mae}\")\n",
        "print(f\"Root Mean Squared Error: {rmse}\")"
      ],
      "metadata": {
        "id": "m5xxa1OqRGws",
        "colab": {
          "base_uri": "https://localhost:8080/"
        },
        "outputId": "55c87512-54c9-4b4e-eed7-23b1cc912202"
      },
      "execution_count": null,
      "outputs": [
        {
          "output_type": "stream",
          "name": "stdout",
          "text": [
            "Mean Absolute Error: 60093.078065855785\n",
            "Root Mean Squared Error: 106710.4030517729\n"
          ]
        }
      ]
    },
    {
      "cell_type": "code",
      "source": [
        "# Scatter plot of Actual vs. Predicted values\n",
        "plt.figure(figsize=(10, 6))\n",
        "plt.scatter(y_test, y_pred, alpha=0.7)\n",
        "plt.plot([y_test.min(), y_test.max()], [y_test.min(), y_test.max()], color='red', linestyle='--')  # Line of perfect prediction\n",
        "plt.title('Actual vs. Predicted Salaries')\n",
        "plt.xlabel('Actual Salaries')\n",
        "plt.ylabel('Predicted Salaries')\n",
        "plt.xlim(y_test.min(), y_test.max())\n",
        "plt.ylim(y_test.min(), y_test.max())\n",
        "plt.grid()\n",
        "plt.show()\n"
      ],
      "metadata": {
        "colab": {
          "base_uri": "https://localhost:8080/",
          "height": 564
        },
        "id": "sFyNDi2mUMIE",
        "outputId": "aefe8f59-d3bd-4cdd-d9ba-768b21dd03ed"
      },
      "execution_count": null,
      "outputs": [
        {
          "output_type": "display_data",
          "data": {
            "text/plain": [
              "<Figure size 1000x600 with 1 Axes>"
            ],
            "image/png": "[encoded data removed]"
          },
          "metadata": {}
        }
      ]
    },
    {
      "cell_type": "code",
      "source": [
        "# Calculate the residuals (errors)\n",
        "residuals = y_test - y_pred\n",
        "\n",
        "# Histogram of Residuals\n",
        "plt.figure(figsize=(10, 6))\n",
        "plt.hist(residuals, bins=30, color='blue', edgecolor='black', alpha=0.7)\n",
        "plt.title('Distribution of Prediction Errors')\n",
        "plt.xlabel('Residuals (Actual - Predicted)')\n",
        "plt.ylabel('Frequency')\n",
        "plt.grid()\n",
        "plt.show()\n"
      ],
      "metadata": {
        "colab": {
          "base_uri": "https://localhost:8080/",
          "height": 564
        },
        "id": "LSxW5hfoUT90",
        "outputId": "fcebfa3a-ec87-4a9f-aeb8-d09ede16a84f"
      },
      "execution_count": null,
      "outputs": [
        {
          "output_type": "display_data",
          "data": {
            "text/plain": [
              "<Figure size 1000x600 with 1 Axes>"
            ],
            "image/png": "[encoded data removed]"
          },
          "metadata": {}
        }
      ]
    },
    {
      "cell_type": "code",
      "source": [
        "# Predict on training data\n",
        "y_train_pred = model.predict(X_train)\n",
        "\n",
        "# Predict on test data\n",
        "y_test_pred = model.predict(X_test)\n",
        "\n",
        "# Calculate metrics for training set\n",
        "train_mae = mean_absolute_error(y_train, y_train_pred)\n",
        "train_rmse = np.sqrt(mean_squared_error(y_train, y_train_pred))\n",
        "\n",
        "# Calculate metrics for test set\n",
        "test_mae = mean_absolute_error(y_test, y_test_pred)\n",
        "test_rmse = np.sqrt(mean_squared_error(y_test, y_test_pred))\n",
        "\n",
        "print(\"Training Set Performance:\")\n",
        "print(f\"Mean Absolute Error: {train_mae}\")\n",
        "print(f\"Root Mean Squared Error: {train_rmse}\")\n",
        "\n",
        "print(\"\\nTesting Set Performance:\")\n",
        "print(f\"Mean Absolute Error: {test_mae}\")\n",
        "print(f\"Root Mean Squared Error: {test_rmse}\")\n"
      ],
      "metadata": {
        "colab": {
          "base_uri": "https://localhost:8080/"
        },
        "id": "c0abz7QDVN7g",
        "outputId": "ed2674dd-cf51-49e1-8980-05b681726385"
      },
      "execution_count": null,
      "outputs": [
        {
          "output_type": "stream",
          "name": "stdout",
          "text": [
            "Training Set Performance:\n",
            "Mean Absolute Error: 70859.096943387\n",
            "Root Mean Squared Error: 759256.6622214675\n",
            "\n",
            "Testing Set Performance:\n",
            "Mean Absolute Error: 60093.078065855785\n",
            "Root Mean Squared Error: 106710.4030517729\n"
          ]
        }
      ]
    },
    {
      "cell_type": "code",
      "source": [
        "\n",
        "# Performance metrics for training and testing sets\n",
        "metrics = ['Mean Absolute Error', 'Root Mean Squared Error']\n",
        "training_scores = [70859.096943387, 759256.6622214675]\n",
        "testing_scores = [60093.078065855785, 106710.4030517729]\n",
        "\n",
        "# Set up the plot\n",
        "fig, ax = plt.subplots(1, 2, figsize=(14, 6))\n",
        "\n",
        "# Bar chart for Mean Absolute Error\n",
        "ax[0].bar(['Training', 'Testing'], training_scores[:1] + testing_scores[:1], color=['skyblue', 'salmon'])\n",
        "ax[0].set_title('Mean Absolute Error Comparison')\n",
        "ax[0].set_ylabel('MAE')\n",
        "ax[0].set_ylim(0, max(training_scores[0], testing_scores[0]) * 1.2)\n",
        "\n",
        "# Bar chart for Root Mean Squared Error\n",
        "ax[1].bar(['Training', 'Testing'], training_scores[1:] + testing_scores[1:], color=['skyblue', 'salmon'])\n",
        "ax[1].set_title('Root Mean Squared Error Comparison')\n",
        "ax[1].set_ylabel('RMSE')\n",
        "ax[1].set_ylim(0, max(training_scores[1], testing_scores[1]) * 1.2)\n",
        "\n",
        "# Display the plots\n",
        "plt.suptitle('Training vs Testing Performance Comparison')\n",
        "plt.show()\n"
      ],
      "metadata": {
        "colab": {
          "base_uri": "https://localhost:8080/",
          "height": 582
        },
        "id": "ZPgXQDoYVry_",
        "outputId": "d526e77f-6796-4c03-eb55-6fb40ba84589"
      },
      "execution_count": null,
      "outputs": [
        {
          "output_type": "display_data",
          "data": {
            "text/plain": [
              "<Figure size 1400x600 with 2 Axes>"
            ],
            "image/png": "[encoded data removed]"
          },
          "metadata": {}
        }
      ]
    },
    {
      "cell_type": "markdown",
      "source": [
        "# ML draft"
      ],
      "metadata": {
        "id": "Nz9W1OvcT7WL"
      }
    },
    {
      "cell_type": "code",
      "source": [
        "# Check the data types of the columns\n",
        "print(df.dtypes)\n",
        "\n",
        "# Define numerical columns - only include those that are numeric\n",
        "numerical_columns = ['Age', 'YearsCode', 'YearsCodePro', 'WorkExp']  # Adjust this based on your data types\n",
        "# If 'Age' is not numeric, you might need to process it\n",
        "if df['Age'].dtype == 'object':\n",
        "    # Convert age ranges to numeric, for example, you could create a mapping\n",
        "    age_mapping = {\n",
        "        '18-24 years old': 21,\n",
        "        '25-34 years old': 29,\n",
        "        '35-44 years old': 39,\n",
        "        '45-54 years old': 49,\n",
        "        '55-64 years old': 59,\n",
        "        '65 years or older': 65\n",
        "    }\n",
        "    df['Age'] = df['Age'].map(age_mapping)\n",
        "\n",
        "# Define categorical columns\n",
        "categorical_columns = ['MainBranch', 'Employment', 'RemoteWork', 'EdLevel', 'DevType', 'Country']\n",
        "\n",
        "# After mapping, ensure that 'Age' is numeric\n",
        "numerical_columns = [col for col in numerical_columns if df[col].dtype in ['int64', 'float64']]\n",
        "\n",
        "\n",
        "# Define Imputers\n",
        "numerical_imputer = SimpleImputer(strategy='mean')\n",
        "categorical_imputer = SimpleImputer(strategy='most_frequent')\n",
        "\n",
        "# Define Scaler and OneHotEncoder\n",
        "scaler = StandardScaler()\n",
        "onehot_encoder = OneHotEncoder(handle_unknown='ignore')\n",
        "\n",
        "# Create Preprocessor\n",
        "preprocessor = ColumnTransformer(\n",
        "    transformers=[\n",
        "        ('num', Pipeline(steps=[('imputer', numerical_imputer), ('scaler', scaler)]), numerical_columns),\n",
        "        ('cat', Pipeline(steps=[('imputer', categorical_imputer), ('onehot', onehot_encoder)]), categorical_columns)\n",
        "    ]\n",
        ")\n",
        "\n",
        "# Split the data into features (X) and target (y)\n",
        "from sklearn.model_selection import train_test_split\n",
        "X = df.drop('ConvertedCompYearly', axis=1)\n",
        "y = df['ConvertedCompYearly']\n",
        "\n",
        "# Split into training and test sets\n",
        "X_train, X_test, y_train, y_test = train_test_split(X, y, test_size=0.2, random_state=42)\n",
        "\n",
        "# Apply the preprocessing to training and test sets\n",
        "X_train_processed = preprocessor.fit_transform(X_train)\n",
        "X_test_processed = preprocessor.transform(X_test)\n",
        "\n",
        "print(\"Preprocessing complete!\")\n",
        "print(f\"Processed training data shape: {X_train_processed.shape}\")\n",
        "print(f\"Processed test data shape: {X_test_processed.shape}\")\n"
      ],
      "metadata": {
        "colab": {
          "base_uri": "https://localhost:8080/"
        },
        "id": "O6UqULDIUOQW",
        "outputId": "9058795a-d587-4ea7-902a-66c72da40e55"
      },
      "execution_count": null,
      "outputs": [
        {
          "output_type": "stream",
          "name": "stdout",
          "text": [
            "ResponseId               int64\n",
            "Q120                    object\n",
            "MainBranch              object\n",
            "Age                    float64\n",
            "Employment              object\n",
            "                        ...   \n",
            "ProfessionalTech        object\n",
            "Industry                object\n",
            "SurveyLength            object\n",
            "SurveyEase              object\n",
            "ConvertedCompYearly    float64\n",
            "Length: 84, dtype: object\n",
            "Preprocessing complete!\n",
            "Processed training data shape: (71347, 246)\n",
            "Processed test data shape: (17837, 246)\n"
          ]
        }
      ]
    },
    {
      "cell_type": "code",
      "source": [
        "# Get the feature names from the numerical and categorical transformers\n",
        "numerical_feature_names = numerical_columns  # Original numerical column names\n",
        "\n",
        "# Get the transformed categorical feature names\n",
        "categorical_feature_names = preprocessor.named_transformers_['cat']['onehot'].get_feature_names_out(categorical_columns)\n",
        "\n",
        "# Combine all feature names into a single list\n",
        "all_feature_names = list(numerical_feature_names) + list(categorical_feature_names)\n",
        "\n",
        "# Print the feature names\n",
        "print(\"New feature names after preprocessing:\")\n",
        "for feature in all_feature_names:\n",
        "    print(feature)\n"
      ],
      "metadata": {
        "colab": {
          "base_uri": "https://localhost:8080/"
        },
        "id": "C9h1M6vnf5hr",
        "outputId": "060c5ec8-ee98-4878-cdd0-ee99cf6544c5"
      },
      "execution_count": null,
      "outputs": [
        {
          "output_type": "stream",
          "name": "stdout",
          "text": [
            "New feature names after preprocessing:\n",
            "Age\n",
            "WorkExp\n",
            "MainBranch_I am a developer by profession\n",
            "MainBranch_I am learning to code\n",
            "MainBranch_I am not primarily a developer, but I write code sometimes as part of my work/studies\n",
            "MainBranch_I code primarily as a hobby\n",
            "MainBranch_I used to be a developer by profession, but no longer am\n",
            "MainBranch_None of these\n",
            "Employment_Employed, full-time\n",
            "Employment_Employed, part-time\n",
            "Employment_I prefer not to say\n",
            "Employment_Independent contractor, freelancer, or self-employed\n",
            "Employment_Not employed, and not looking for work\n",
            "Employment_Not employed, but looking for work\n",
            "Employment_Retired\n",
            "Employment_Student, full-time\n",
            "Employment_Student, part-time\n",
            "RemoteWork_Hybrid (some remote, some in-person)\n",
            "RemoteWork_In-person\n",
            "RemoteWork_Remote\n",
            "EdLevel_Associate degree (A.A., A.S., etc.)\n",
            "EdLevel_Bachelor’s degree (B.A., B.S., B.Eng., etc.)\n",
            "EdLevel_Master’s degree (M.A., M.S., M.Eng., MBA, etc.)\n",
            "EdLevel_Primary/elementary school\n",
            "EdLevel_Professional degree (JD, MD, Ph.D, Ed.D, etc.)\n",
            "EdLevel_Secondary school (e.g. American high school, German Realschule or Gymnasium, etc.)\n",
            "EdLevel_Some college/university study without earning a degree\n",
            "EdLevel_Something else\n",
            "DevType_Academic researcher\n",
            "DevType_Blockchain\n",
            "DevType_Cloud infrastructure engineer\n",
            "DevType_Data or business analyst\n",
            "DevType_Data scientist or machine learning specialist\n",
            "DevType_Database administrator\n",
            "DevType_Designer\n",
            "DevType_DevOps specialist\n",
            "DevType_Developer Advocate\n",
            "DevType_Developer Experience\n",
            "DevType_Developer, QA or test\n",
            "DevType_Developer, back-end\n",
            "DevType_Developer, desktop or enterprise applications\n",
            "DevType_Developer, embedded applications or devices\n",
            "DevType_Developer, front-end\n",
            "DevType_Developer, full-stack\n",
            "DevType_Developer, game or graphics\n",
            "DevType_Developer, mobile\n",
            "DevType_Educator\n",
            "DevType_Engineer, data\n",
            "DevType_Engineer, site reliability\n",
            "DevType_Engineering manager\n",
            "DevType_Hardware Engineer\n",
            "DevType_Marketing or sales professional\n",
            "DevType_Other (please specify):\n",
            "DevType_Product manager\n",
            "DevType_Project manager\n",
            "DevType_Research & Development role\n",
            "DevType_Scientist\n",
            "DevType_Security professional\n",
            "DevType_Senior Executive (C-Suite, VP, etc.)\n",
            "DevType_Student\n",
            "DevType_System administrator\n",
            "Country_Afghanistan\n",
            "Country_Albania\n",
            "Country_Algeria\n",
            "Country_Andorra\n",
            "Country_Angola\n",
            "Country_Antigua and Barbuda\n",
            "Country_Argentina\n",
            "Country_Armenia\n",
            "Country_Australia\n",
            "Country_Austria\n",
            "Country_Azerbaijan\n",
            "Country_Bahamas\n",
            "Country_Bahrain\n",
            "Country_Bangladesh\n",
            "Country_Barbados\n",
            "Country_Belarus\n",
            "Country_Belgium\n",
            "Country_Belize\n",
            "Country_Benin\n",
            "Country_Bhutan\n",
            "Country_Bolivia\n",
            "Country_Bosnia and Herzegovina\n",
            "Country_Botswana\n",
            "Country_Brazil\n",
            "Country_Brunei Darussalam\n",
            "Country_Bulgaria\n",
            "Country_Burkina Faso\n",
            "Country_Burundi\n",
            "Country_Cambodia\n",
            "Country_Cameroon\n",
            "Country_Canada\n",
            "Country_Cape Verde\n",
            "Country_Central African Republic\n",
            "Country_Chile\n",
            "Country_China\n",
            "Country_Colombia\n",
            "Country_Congo, Republic of the...\n",
            "Country_Costa Rica\n",
            "Country_Croatia\n",
            "Country_Cuba\n",
            "Country_Cyprus\n",
            "Country_Czech Republic\n",
            "Country_Côte d'Ivoire\n",
            "Country_Democratic People's Republic of Korea\n",
            "Country_Democratic Republic of the Congo\n",
            "Country_Denmark\n",
            "Country_Djibouti\n",
            "Country_Dominica\n",
            "Country_Dominican Republic\n",
            "Country_Ecuador\n",
            "Country_Egypt\n",
            "Country_El Salvador\n",
            "Country_Estonia\n",
            "Country_Ethiopia\n",
            "Country_Fiji\n",
            "Country_Finland\n",
            "Country_France\n",
            "Country_Gabon\n",
            "Country_Georgia\n",
            "Country_Germany\n",
            "Country_Ghana\n",
            "Country_Greece\n",
            "Country_Grenada\n",
            "Country_Guatemala\n",
            "Country_Guinea\n",
            "Country_Guinea-Bissau\n",
            "Country_Guyana\n",
            "Country_Haiti\n",
            "Country_Honduras\n",
            "Country_Hong Kong (S.A.R.)\n",
            "Country_Hungary\n",
            "Country_Iceland\n",
            "Country_India\n",
            "Country_Indonesia\n",
            "Country_Iran, Islamic Republic of...\n",
            "Country_Iraq\n",
            "Country_Ireland\n",
            "Country_Isle of Man\n",
            "Country_Israel\n",
            "Country_Italy\n",
            "Country_Jamaica\n",
            "Country_Japan\n",
            "Country_Jordan\n",
            "Country_Kazakhstan\n",
            "Country_Kenya\n",
            "Country_Kosovo\n",
            "Country_Kuwait\n",
            "Country_Kyrgyzstan\n",
            "Country_Lao People's Democratic Republic\n",
            "Country_Latvia\n",
            "Country_Lebanon\n",
            "Country_Lesotho\n",
            "Country_Liberia\n",
            "Country_Libyan Arab Jamahiriya\n",
            "Country_Liechtenstein\n",
            "Country_Lithuania\n",
            "Country_Luxembourg\n",
            "Country_Madagascar\n",
            "Country_Malawi\n",
            "Country_Malaysia\n",
            "Country_Maldives\n",
            "Country_Mali\n",
            "Country_Malta\n",
            "Country_Marshall Islands\n",
            "Country_Mauritania\n",
            "Country_Mauritius\n",
            "Country_Mexico\n",
            "Country_Monaco\n",
            "Country_Mongolia\n",
            "Country_Montenegro\n",
            "Country_Morocco\n",
            "Country_Mozambique\n",
            "Country_Myanmar\n",
            "Country_Namibia\n",
            "Country_Nepal\n",
            "Country_Netherlands\n",
            "Country_New Zealand\n",
            "Country_Nicaragua\n",
            "Country_Niger\n",
            "Country_Nigeria\n",
            "Country_Nomadic\n",
            "Country_North Korea\n",
            "Country_Norway\n",
            "Country_Oman\n",
            "Country_Pakistan\n",
            "Country_Palau\n",
            "Country_Palestine\n",
            "Country_Panama\n",
            "Country_Paraguay\n",
            "Country_Peru\n",
            "Country_Philippines\n",
            "Country_Poland\n",
            "Country_Portugal\n",
            "Country_Qatar\n",
            "Country_Republic of Korea\n",
            "Country_Republic of Moldova\n",
            "Country_Romania\n",
            "Country_Russian Federation\n",
            "Country_Rwanda\n",
            "Country_Saint Kitts and Nevis\n",
            "Country_Saint Lucia\n",
            "Country_Saint Vincent and the Grenadines\n",
            "Country_Samoa\n",
            "Country_San Marino\n",
            "Country_Saudi Arabia\n",
            "Country_Senegal\n",
            "Country_Serbia\n",
            "Country_Sierra Leone\n",
            "Country_Singapore\n",
            "Country_Slovakia\n",
            "Country_Slovenia\n",
            "Country_Somalia\n",
            "Country_South Africa\n",
            "Country_South Korea\n",
            "Country_Spain\n",
            "Country_Sri Lanka\n",
            "Country_Sudan\n",
            "Country_Suriname\n",
            "Country_Swaziland\n",
            "Country_Sweden\n",
            "Country_Switzerland\n",
            "Country_Syrian Arab Republic\n",
            "Country_Taiwan\n",
            "Country_Tajikistan\n",
            "Country_Thailand\n",
            "Country_The former Yugoslav Republic of Macedonia\n",
            "Country_Timor-Leste\n",
            "Country_Togo\n",
            "Country_Trinidad and Tobago\n",
            "Country_Tunisia\n",
            "Country_Turkey\n",
            "Country_Turkmenistan\n",
            "Country_Uganda\n",
            "Country_Ukraine\n",
            "Country_United Arab Emirates\n",
            "Country_United Kingdom of Great Britain and Northern Ireland\n",
            "Country_United Republic of Tanzania\n",
            "Country_United States of America\n",
            "Country_Uruguay\n",
            "Country_Uzbekistan\n",
            "Country_Venezuela, Bolivarian Republic of...\n",
            "Country_Viet Nam\n",
            "Country_Yemen\n",
            "Country_Zambia\n",
            "Country_Zimbabwe\n"
          ]
        }
      ]
    },
    {
      "cell_type": "code",
      "source": [
        "df = df.dropna(subset=['ConvertedCompYearly'])"
      ],
      "metadata": {
        "id": "hXLUW8V1WVta"
      },
      "execution_count": null,
      "outputs": []
    },
    {
      "cell_type": "code",
      "source": [
        "# Check for NaNs in the sparse matrix\n",
        "missing_values_count = np.sum(X_train_processed.toarray() == np.nan)\n",
        "print(\"Missing values in X_train_processed:\", missing_values_count)"
      ],
      "metadata": {
        "colab": {
          "base_uri": "https://localhost:8080/"
        },
        "id": "w7VqO7vJWc0Y",
        "outputId": "a393b563-3b70-4d9f-9c6f-344dfd04b909"
      },
      "execution_count": null,
      "outputs": [
        {
          "output_type": "stream",
          "name": "stdout",
          "text": [
            "Missing values in X_train_processed: 0\n"
          ]
        }
      ]
    },
    {
      "cell_type": "code",
      "source": [
        "print(\"Shape of X_train_processed:\", X_train_processed.shape)\n",
        "print(\"Shape of y_train:\", y_train.shape)\n"
      ],
      "metadata": {
        "colab": {
          "base_uri": "https://localhost:8080/"
        },
        "id": "UKr1R3ppWfHb",
        "outputId": "03258dbb-4ca8-479a-bcba-7e42dfbcf732"
      },
      "execution_count": null,
      "outputs": [
        {
          "output_type": "stream",
          "name": "stdout",
          "text": [
            "Shape of X_train_processed: (71347, 336)\n",
            "Shape of y_train: (71347,)\n"
          ]
        }
      ]
    },
    {
      "cell_type": "code",
      "source": [
        "# Drop rows with NaNs in the target variable\n",
        "df_cleaned = df.dropna(subset=['ConvertedCompYearly'])\n",
        "\n",
        "# Prepare the features and target\n",
        "X = df_cleaned.drop('ConvertedCompYearly', axis=1)\n",
        "y = df_cleaned['ConvertedCompYearly']\n",
        "\n",
        "# Split into training and testing datasets\n",
        "from sklearn.model_selection import train_test_split\n",
        "X_train, X_test, y_train, y_test = train_test_split(X, y, test_size=0.2, random_state=42)\n",
        "\n"
      ],
      "metadata": {
        "id": "QUogJ93WWnYD"
      },
      "execution_count": null,
      "outputs": []
    },
    {
      "cell_type": "code",
      "source": [
        "# Identify categorical and numerical columns\n",
        "categorical_cols = X_train.select_dtypes(include=['object']).columns\n",
        "numerical_cols = X_train.select_dtypes(exclude=['object']).columns\n",
        "\n",
        "\n",
        "# Create the preprocessor with handle_unknown='ignore' and the transformations\n",
        "preprocessor = ColumnTransformer(\n",
        "    transformers=[\n",
        "        ('num', StandardScaler(), numerical_cols),\n",
        "        ('cat', OneHotEncoder(handle_unknown='ignore'), categorical_cols)\n",
        "    ]\n",
        ")"
      ],
      "metadata": {
        "id": "3pz3j8enWvJk"
      },
      "execution_count": null,
      "outputs": []
    },
    {
      "cell_type": "code",
      "source": [
        "# Create a pipeline with preprocessing\n",
        "pipeline = Pipeline(steps=[('preprocessor', preprocessor)])\n",
        "\n",
        "# Fit the preprocessor on the training data\n",
        "X_train_processed = pipeline.fit_transform(X_train)\n",
        "X_test_processed = pipeline.transform(X_test)"
      ],
      "metadata": {
        "id": "G-QYqq0IWyMr"
      },
      "execution_count": null,
      "outputs": []
    },
    {
      "cell_type": "code",
      "source": [
        "print(\"Shape of X_train_processed:\", X_train_processed.shape)\n",
        "print(\"Shape of y_train:\", y_train.shape)\n"
      ],
      "metadata": {
        "colab": {
          "base_uri": "https://localhost:8080/"
        },
        "id": "kcKxSSIwW18t",
        "outputId": "66b97be6-70b2-4270-8341-846682067602"
      },
      "execution_count": null,
      "outputs": [
        {
          "output_type": "stream",
          "name": "stdout",
          "text": [
            "Shape of X_train_processed: (38415, 167854)\n",
            "Shape of y_train: (38415,)\n"
          ]
        }
      ]
    },
    {
      "cell_type": "code",
      "source": [
        "model = HistGradientBoostingRegressor()\n"
      ],
      "metadata": {
        "id": "iGcXB928W4YU"
      },
      "execution_count": null,
      "outputs": []
    },
    {
      "cell_type": "code",
      "source": [
        "X_train_dense = X_train_processed.toarray()  # X_train_processed is a sparse matrix\n",
        "model.fit(X_train_dense, y_train)\n"
      ],
      "metadata": {
        "id": "PP-YFIefW63C"
      },
      "execution_count": null,
      "outputs": []
    },
    {
      "cell_type": "code",
      "source": [],
      "metadata": {
        "id": "Z5CCUTfRW87a"
      },
      "execution_count": null,
      "outputs": []
    }
  ]
}